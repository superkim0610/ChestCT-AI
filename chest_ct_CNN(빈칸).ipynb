{
  "nbformat": 4,
  "nbformat_minor": 0,
  "metadata": {
    "colab": {
      "provenance": [],
      "gpuType": "L4",
      "machine_shape": "hm"
    },
    "kernelspec": {
      "name": "python3",
      "display_name": "Python 3"
    },
    "language_info": {
      "name": "python"
    },
    "accelerator": "GPU"
  },
  "cells": [
    {
      "cell_type": "markdown",
      "source": [
        "# 1. 데이터 전처리 (Data preprocessing)"
      ],
      "metadata": {
        "id": "ricoNE2_vs8C"
      }
    },
    {
      "cell_type": "markdown",
      "source": [
        "### 1. 1. 데이터 로드하기"
      ],
      "metadata": {
        "id": "A--SxOgtwyr4"
      }
    },
    {
      "cell_type": "code",
      "execution_count": null,
      "metadata": {
        "id": "TbJ4FMdn2Fp5"
      },
      "outputs": [],
      "source": [
        "import numpy as np\n",
        "\n",
        "data = __.____('/content/data(224).npz')"
      ]
    },
    {
      "cell_type": "markdown",
      "source": [
        "### 1. 2. 데이터 섞기"
      ],
      "metadata": {
        "id": "ZFqhGX6pxJp7"
      }
    },
    {
      "cell_type": "code",
      "source": [
        "# make shuffled index -> shuffle dataset\n",
        "shuffled_index = __.______.___________(np.arange(data['data'].shape[0]))"
      ],
      "metadata": {
        "id": "rpxw0s7fxEJl"
      },
      "execution_count": null,
      "outputs": []
    },
    {
      "cell_type": "markdown",
      "source": [
        "### 1. 3. 데이터 나누기"
      ],
      "metadata": {
        "id": "umfWYPuXxXYU"
      }
    },
    {
      "cell_type": "code",
      "source": [
        "# setting data\n",
        "x_data, y_data = data['data'][shuffled_index], data['label'][shuffled_index]\n",
        "\n",
        "x_train, y_train = _________, __________\n",
        "x_valid, y_valid = _________, __________\n",
        "x_test, y_test = _________, _________\n",
        "\n",
        "print(_________)"
      ],
      "metadata": {
        "id": "g4P_QszOxUP4"
      },
      "execution_count": null,
      "outputs": []
    },
    {
      "cell_type": "markdown",
      "source": [
        "### 1. 4. 데이터 증강"
      ],
      "metadata": {
        "id": "pC74TJH1xqHW"
      }
    },
    {
      "cell_type": "code",
      "source": [
        "from tensorflow.keras.preprocessing.image import ImageDataGenerator, array_to_img, img_to_array, load_img\n",
        "\n",
        "data_gen = ImageDataGenerator(\n",
        "        rotation_range=___,\n",
        "        width_shift_range=___,\n",
        "        height_shift_range=___,\n",
        "        shear_range=___,\n",
        "        zoom_range=___,\n",
        "        fill_mode='nearest')"
      ],
      "metadata": {
        "id": "lM6yigWsxpYq"
      },
      "execution_count": null,
      "outputs": []
    },
    {
      "cell_type": "code",
      "source": [
        "x_train_augmentated = []\n",
        "y_train_augmentated = []\n",
        "\n",
        "augmentation_num = 15\n",
        "for batch in data_gen.flow(x_train, y_train, batch_size=x_train.shape[0]):\n",
        "    for d in batch[0]:\n",
        "        ______________\n",
        "    for d in batch[1]:\n",
        "        ______________\n",
        "    augmentation_num -= 1\n",
        "    if augmentation_num <= 0:\n",
        "      break\n",
        "    print(f'{augmentation_num} steps remaining')\n",
        "\n",
        "x_train_augmentated = np.array(x_train_augmentated)\n",
        "y_train_augmentated = np.array(y_train_augmentated)\n",
        "\n",
        "______________\n",
        "______________"
      ],
      "metadata": {
        "id": "bjsnM3dcHEeb"
      },
      "execution_count": null,
      "outputs": []
    },
    {
      "cell_type": "markdown",
      "source": [
        "### 1. 5. 데이터 정규화"
      ],
      "metadata": {
        "id": "MK2q6Anix6ho"
      }
    },
    {
      "cell_type": "code",
      "source": [
        "# dataset standardized\n",
        "mean_vals = ____________ # axis=0: 요소간 평균, axis=1: 그룹의 열간 평균, axis=2: 그룹의 행간 평균, axis=(1, 2): 그룹 내 평균\n",
        "std_val = ____________ # np.std 를 axis=0 기준으로 구한다면, 모든 dataset 에서 같은 값을 가진 픽셀의 경우 np.std == 0 이고 std 로 나누었을 때 divided by zero error can be raised\n",
        "\n",
        "x_train_augmentated_centered = ____________\n",
        "x_valid_centered = ____________\n",
        "x_test_centered = ____________\n",
        "\n",
        "print('평균: ', np.mean(____________))\n",
        "print('표준편차', np.std(____________))"
      ],
      "metadata": {
        "id": "t5DYolbCx_OE"
      },
      "execution_count": null,
      "outputs": []
    },
    {
      "cell_type": "markdown",
      "source": [
        "# 2.  모델 구현 (model implementation)"
      ],
      "metadata": {
        "id": "-DFb4is1v44a"
      }
    },
    {
      "cell_type": "markdown",
      "source": [
        "### 2. 1. 모델 구현"
      ],
      "metadata": {
        "id": "Hb_HGML8y9TM"
      }
    },
    {
      "cell_type": "code",
      "source": [
        "# model structure\n",
        "from tensorflow.keras import layers, models\n",
        "\n",
        "def create_model():\n",
        "  model = models.Sequential()\n",
        "\n",
        "  # feature extractor\n",
        "  # block1\n",
        "  model.add(layers.________(32, (3, 3), padding='same', activation='relu', input_shape=(224, 224, 1), name='block1_conv1'))\n",
        "  model.add(layers.________(________, name='block1_pool'))\n",
        "\n",
        "  # block2\n",
        "  model.add(layers.________(64, (3, 3), padding='same', activation='relu', input_shape=(112, 112, 1), name='block2_conv1'))\n",
        "  model.add(layers.________(________, name='block2_pool'))\n",
        "\n",
        "  # block4\n",
        "  model.add(layers.________(128, (3, 3), padding='same', activation='relu', input_shape=(56, 56, 1), name='block3_conv1'))\n",
        "  model.add(layers.________((2, 2), name='block4_pool'))\n",
        "\n",
        "  # block5\n",
        "  model.add(layers.________(256, (3, 3), padding='same', activation='relu', input_shape=(28, 28, 1), name='block4_conv1'))\n",
        "  model.add(layers.________((2, 2), name='block5_pool'))\n",
        "\n",
        "  # block6\n",
        "  model.add(layers.________(____, (__, __), padding='same', activation='relu', input_shape=(14, 14, 1), name='block5_conv1'))\n",
        "  model.add(layers.________((2, 2), name='block6_pool'))\n",
        "\n",
        "  # classfier\n",
        "  model.add(layers.________((___, ___))\n",
        "\n",
        "\n",
        "  model.add(layers.Dropout(___))\n",
        "  model.add(layers.Dense(___, activation='relu'))\n",
        "\n",
        "  model.add(layers.Dropout(0.5))\n",
        "  model.add(layers.Dense(___, activation='relu'))\n",
        "\n",
        "  model.add(layers.Dense(4, activation='softmax'))\n",
        "  model.add(layers.Flatten())\n",
        "\n",
        "  return model\n",
        "\n",
        "model = create_model()\n",
        "model.compile(loss='categorical_crossentropy', optimizer='adam', metrics=['acc'])"
      ],
      "metadata": {
        "id": "qtxpQWJeyQFs"
      },
      "execution_count": null,
      "outputs": []
    },
    {
      "cell_type": "markdown",
      "source": [
        "### 2. 2. 모델 설명"
      ],
      "metadata": {
        "id": "vMc1LTT-zJEN"
      }
    },
    {
      "cell_type": "code",
      "source": [
        "model.________"
      ],
      "metadata": {
        "id": "cDoMmkOuzL2z"
      },
      "execution_count": null,
      "outputs": []
    },
    {
      "cell_type": "markdown",
      "source": [
        "# 3. 모델 훈련"
      ],
      "metadata": {
        "id": "fbhqK6Qiv5ZE"
      }
    },
    {
      "cell_type": "markdown",
      "source": [
        "### 3. 1. 텐서보드 활용하기"
      ],
      "metadata": {
        "id": "1gKxjfrdz1kJ"
      }
    },
    {
      "cell_type": "code",
      "source": [
        "# using tensorboard\n",
        "# !pip install jupyter-tensorboard\n",
        "%load_ext tensorboard\n",
        "%tensorboard --logdir /content/logs"
      ],
      "metadata": {
        "id": "7cjYDTqqz4uP",
        "collapsed": true
      },
      "execution_count": null,
      "outputs": []
    },
    {
      "cell_type": "markdown",
      "source": [
        "### 3. 2. 모델 훈련하기"
      ],
      "metadata": {
        "id": "-S9nMuUYz6C6"
      }
    },
    {
      "cell_type": "code",
      "source": [
        "import _____\n",
        "from tensorflow.keras.callbacks import ModelCheckpoint, TensorBoard\n",
        "\n",
        "callback_list = [ModelCheckpoint(filepath='ct_244_cnn_cp.keras', monitor='val_loss', save_best_only=True), TensorBoard(log_dir=\"/content/logs/{}\".format(time.asctime()))]\n",
        "history = model.fit(________, ________, batch_size=32, epochs=50, ________=(________, ________), callbacks=callback_list)"
      ],
      "metadata": {
        "id": "5e3Rgkwrz8VY"
      },
      "execution_count": null,
      "outputs": []
    },
    {
      "cell_type": "markdown",
      "source": [
        "# 4. 모델 평가"
      ],
      "metadata": {
        "id": "V3Jx5RFmv5og"
      }
    },
    {
      "cell_type": "markdown",
      "source": [
        "### 4. 1. 모델 평가하기"
      ],
      "metadata": {
        "id": "YoVyyKX_0Obj"
      }
    },
    {
      "cell_type": "code",
      "source": [
        "model.evaluate(________, ________)\n",
        "model.evaluate(________, ________)\n",
        "\n",
        "t0 = time.time()\n",
        "________.________(________)\n",
        "t1 = time.time()\n",
        "\n",
        "print(f\"tot: {t1-t0}s, {(t1-t0)/x_test_centered.shape[0]}s/img\" )"
      ],
      "metadata": {
        "id": "zlU4zb0G0P7J"
      },
      "execution_count": null,
      "outputs": []
    }
  ]
}